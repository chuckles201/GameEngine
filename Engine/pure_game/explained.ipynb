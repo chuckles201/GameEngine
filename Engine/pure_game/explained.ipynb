{
 "cells": [
  {
   "cell_type": "markdown",
   "metadata": {},
   "source": [
    "### Game design\n",
    "\n",
    "Integrated files: \n",
    "\n",
    "- the functions delegating the nature of nations etc. will be essential.\n",
    "- Political decisions factions, etc. will also be available.\n",
    "\n",
    "### Including Integrated Files:\n",
    "\n",
    "how to include functions from other files?\n",
    "\n",
    "- Header files declare functions so that we can 'link' functions from other parts of the code. Normally we would just 'forward declare' a function, and it would automatically take it from another file. We can use a header file to interface with a CPP.\n",
    "\n",
    "To link the main file, and the header, we run the command:\n",
    "> g++ -o game.exe testGame.cpp includes/test.cpp\n",
    "\n",
    "in the terminal and then run game.exe to run the program.\n",
    "\n"
   ]
  }
 ],
 "metadata": {
  "language_info": {
   "name": "python"
  }
 },
 "nbformat": 4,
 "nbformat_minor": 2
}
