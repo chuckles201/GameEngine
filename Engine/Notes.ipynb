{
 "cells": [
  {
   "cell_type": "markdown",
   "metadata": {},
   "source": [
    "# Goal:\n",
    "\n",
    "Code from scratch a game and physics/graphics engine at level of windows API!\n",
    "\n",
    "### Questions\n",
    "- How do we render graphics and take user input-with(C++) (understanding win32 API)\n",
    "- How do we understand instructions being run and optimize this?\n",
    "- How to abstract/port this to python, new language?\n",
    "\n",
    "### Concepts (to-explain)\n",
    "- Win-API\n",
    "- Windows Handles"
   ]
  },
  {
   "cell_type": "markdown",
   "metadata": {},
   "source": [
    "# Windows API 🪟\n",
    "\n",
    "Here, I will be struggling through trying to implement and understand the windows API! \n",
    "\n",
    "Supposedly, this is almost the lowest level we can get, and it provides us with control over the windows we create and the rendering.\n",
    "\n",
    "I will attempt to organize my thoughts about the windows API and its abstractions as clearly as possible in the following notes:"
   ]
  },
  {
   "cell_type": "markdown",
   "metadata": {},
   "source": [
    "## Running a Program w/ Windows\n",
    "\n",
    "First, let's understand a little about what our program is actually doing, and why we even need to talk to the windows API (why can't we just change the memory itself that calls up a window and draws pixels on it?).\n",
    "\n",
    "We can basically think of our normal C++ programs as 'gated' applications, where most memory is protected, and we are allocated 'virtual memory' that can't actually do any harm to our computer.\n",
    "\n",
    "When working with the windows API, we can use windows as an intermediary to do the 'elevateed permission level' functions, like calling a window and playing a sound.\n",
    "\n",
    "Since we can't actually modify the memory itself, the windows api is the most low-level way to actually open windows, and create applications.\n",
    "\n",
    "## WINAPI\n",
    "\n",
    "To run a C++ program that compiles with the windows API, we first must define the header: ```#include <windows.h>```. Headers basically define and link all of the functions from another file (some secretive powerful windows C file with a bunch of functions we'll be using).\n",
    "\n",
    "This inclusion basically does the ```#defines``` and calls all of the functions we'll be using with windows. There are ALOT of windows-specific things we'll be using in order to talk with the operating system, here is the main function we must use:\n",
    "\n",
    "```c++\n",
    "#include <windows.h>\n",
    "\n",
    "int CALLBACK WinMain( \n",
    "    HINSTANCE hInstance,\n",
    "    HINSTANCE hPrevInstance,\n",
    "    LPSTR lpCmdLine,\n",
    "    int nCmdShow\n",
    ") {\n",
    "    OutputDebugStringA(\"Hello from the debug line\");\n",
    "}\n",
    "```"
   ]
  },
  {
   "cell_type": "markdown",
   "metadata": {},
   "source": [
    "So, this is very different from regular C++ code and seems daunting."
   ]
  }
 ],
 "metadata": {
  "kernelspec": {
   "display_name": "manimtest",
   "language": "python",
   "name": "python3"
  },
  "language_info": {
   "codemirror_mode": {
    "name": "ipython",
    "version": 3
   },
   "file_extension": ".py",
   "mimetype": "text/x-python",
   "name": "python",
   "nbconvert_exporter": "python",
   "pygments_lexer": "ipython3",
   "version": "3.12.7"
  }
 },
 "nbformat": 4,
 "nbformat_minor": 2
}
