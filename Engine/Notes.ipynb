{
 "cells": [
  {
   "cell_type": "markdown",
   "metadata": {},
   "source": [
    "# Goal:\n",
    "\n",
    "Code from scratch a game and physics/graphics engine at level of windows API!\n",
    "\n",
    "### Questions\n",
    "- How do we render graphics and take user input-with(C++) (understanding win32 API)\n",
    "- How do we understand instructions being run and optimize this?\n",
    "- How to abstract/port this to python, new language?"
   ]
  },
  {
   "cell_type": "markdown",
   "metadata": {},
   "source": [
    "# Windows API 🪟\n",
    "\n",
    "Here, I will be struggling through trying to implement and understand the windows API! \n",
    "\n",
    "Supposedly, this is almost the lowest level we can get, and it provides us with control over the windows we create and the rendering.\n",
    "\n",
    "I will attempt to organize my thoughts about the windows API and its abstractions as clearly as possible in the following notes:"
   ]
  },
  {
   "cell_type": "markdown",
   "metadata": {},
   "source": []
  }
 ],
 "metadata": {
  "language_info": {
   "name": "python"
  }
 },
 "nbformat": 4,
 "nbformat_minor": 2
}
